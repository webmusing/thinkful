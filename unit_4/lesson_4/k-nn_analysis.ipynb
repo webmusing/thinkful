{
 "cells": [
  {
   "cell_type": "code",
   "execution_count": 1,
   "metadata": {
    "collapsed": false
   },
   "outputs": [
    {
     "data": {
      "text/plain": [
       "<matplotlib.axes._subplots.AxesSubplot at 0x116da2d90>"
      ]
     },
     "execution_count": 1,
     "metadata": {},
     "output_type": "execute_result"
    },
    {
     "data": {
      "image/png": "[encoded data removed]",
      "text/plain": [
       "<matplotlib.figure.Figure at 0x116d97b10>"
      ]
     },
     "metadata": {},
     "output_type": "display_data"
    }
   ],
   "source": [
    "import traceback,logging,os,signal,time,gzip,StringIO,logging.handlers,re,sys,requests, random, math\n",
    "import numpy as np\n",
    "import pandas as pd\n",
    "import matplotlib.pyplot as plt\n",
    "\n",
    "%matplotlib inline\n",
    "\n",
    "config = dict()\n",
    "config['resource_dir'] = \"../resources/\"\n",
    "config['raw_file'] = config['resource_dir'] + \"iris.data.csv\"\n",
    "\n",
    "iris_df = pd.read_csv(config['raw_file'],header=None)\n",
    "iris_df.columns = ['sepal_length','sepal_width','petal_length','petal_width','class']\n",
    "#print iris_df\n",
    "iris_df.plot.scatter(x='sepal_length',y='sepal_width')"
   ]
  },
  {
   "cell_type": "code",
   "execution_count": 2,
   "metadata": {
    "collapsed": false
   },
   "outputs": [
    {
     "data": {
      "text/plain": [
       "sepal_length            4.9\n",
       "sepal_width             3.1\n",
       "petal_length            1.5\n",
       "petal_width             0.1\n",
       "class           Iris-setosa\n",
       "Name: 9, dtype: object"
      ]
     },
     "execution_count": 2,
     "metadata": {},
     "output_type": "execute_result"
    }
   ],
   "source": [
    "# Picking out a random new point\n",
    "idx = int(len(iris_df) * random.uniform(0,1.0)) \n",
    "new_pt = iris_df.iloc[idx]\n",
    "iris_df.drop(iris_df.index[[idx]], inplace=True)\n",
    "new_pt\n"
   ]
  },
  {
   "cell_type": "code",
   "execution_count": 27,
   "metadata": {
    "collapsed": false
   },
   "outputs": [
    {
     "data": {
      "text/plain": [
       "Iris-setosa    10\n",
       "Name: class, dtype: int64"
      ]
     },
     "execution_count": 27,
     "metadata": {},
     "output_type": "execute_result"
    }
   ],
   "source": [
    "def getDiff(y2, y1, x2, x1):\n",
    "    return np.sqrt((y2 - y1)**2 + (x2-x1)**2)\n",
    "\n",
    "iris_df['diff'] = iris_df.apply(lambda x: getDiff(x['sepal_width'],new_pt['sepal_width'],x['sepal_length'],new_pt['sepal_length']), axis =1)\n",
    "iris_df.sort_values(by=\"diff\",inplace=True)\n",
    "iris_df = iris_df.iloc[:10]\n",
    "majority_class = iris_df['class'].value_counts()[0]"
   ]
  },
  {
   "cell_type": "code",
   "execution_count": null,
   "metadata": {
    "collapsed": true
   },
   "outputs": [],
   "source": []
  }
 ],
 "metadata": {
  "kernelspec": {
   "display_name": "Python 2",
   "language": "python",
   "name": "python2"
  },
  "language_info": {
   "codemirror_mode": {
    "name": "ipython",
    "version": 2
   },
   "file_extension": ".py",
   "mimetype": "text/x-python",
   "name": "python",
   "nbconvert_exporter": "python",
   "pygments_lexer": "ipython2",
   "version": "2.7.11"
  }
 },
 "nbformat": 4,
 "nbformat_minor": 0
}
