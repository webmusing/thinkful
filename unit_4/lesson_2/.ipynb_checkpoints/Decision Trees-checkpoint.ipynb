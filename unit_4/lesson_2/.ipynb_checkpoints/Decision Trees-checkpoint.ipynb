{
 "cells": [
  {
   "cell_type": "code",
   "execution_count": 88,
   "metadata": {
    "collapsed": false
   },
   "outputs": [
    {
     "name": "stdout",
     "output_type": "stream",
     "text": [
      "      activity_idx   activity_labels\n",
      "0                5          STANDING\n",
      "1                5          STANDING\n",
      "2                5          STANDING\n",
      "3                5          STANDING\n",
      "4                5          STANDING\n",
      "5                5          STANDING\n",
      "6                5          STANDING\n",
      "7                5          STANDING\n",
      "8                5          STANDING\n",
      "9                5          STANDING\n",
      "10               5          STANDING\n",
      "11               5          STANDING\n",
      "12               5          STANDING\n",
      "13               5          STANDING\n",
      "14               5          STANDING\n",
      "15               5          STANDING\n",
      "16               5          STANDING\n",
      "17               5          STANDING\n",
      "18               5          STANDING\n",
      "19               5          STANDING\n",
      "20               5          STANDING\n",
      "21               5          STANDING\n",
      "22               5          STANDING\n",
      "23               5          STANDING\n",
      "24               5          STANDING\n",
      "25               5          STANDING\n",
      "26               5          STANDING\n",
      "27               4           SITTING\n",
      "28               4           SITTING\n",
      "29               4           SITTING\n",
      "...            ...               ...\n",
      "7322             2  WALKING_UPSTAIRS\n",
      "7323             2  WALKING_UPSTAIRS\n",
      "7324             2  WALKING_UPSTAIRS\n",
      "7325             2  WALKING_UPSTAIRS\n",
      "7326             2  WALKING_UPSTAIRS\n",
      "7327             2  WALKING_UPSTAIRS\n",
      "7328             2  WALKING_UPSTAIRS\n",
      "7329             2  WALKING_UPSTAIRS\n",
      "7330             2  WALKING_UPSTAIRS\n",
      "7331             2  WALKING_UPSTAIRS\n",
      "7332             2  WALKING_UPSTAIRS\n",
      "7333             2  WALKING_UPSTAIRS\n",
      "7334             2  WALKING_UPSTAIRS\n",
      "7335             2  WALKING_UPSTAIRS\n",
      "7336             2  WALKING_UPSTAIRS\n",
      "7337             2  WALKING_UPSTAIRS\n",
      "7338             2  WALKING_UPSTAIRS\n",
      "7339             2  WALKING_UPSTAIRS\n",
      "7340             2  WALKING_UPSTAIRS\n",
      "7341             2  WALKING_UPSTAIRS\n",
      "7342             2  WALKING_UPSTAIRS\n",
      "7343             2  WALKING_UPSTAIRS\n",
      "7344             2  WALKING_UPSTAIRS\n",
      "7345             2  WALKING_UPSTAIRS\n",
      "7346             2  WALKING_UPSTAIRS\n",
      "7347             2  WALKING_UPSTAIRS\n",
      "7348             2  WALKING_UPSTAIRS\n",
      "7349             2  WALKING_UPSTAIRS\n",
      "7350             2  WALKING_UPSTAIRS\n",
      "7351             2  WALKING_UPSTAIRS\n",
      "\n",
      "[7352 rows x 2 columns]\n"
     ]
    }
   ],
   "source": [
    "import numpy as np\n",
    "import pandas as pd\n",
    "import matplotlib.pyplot as plt\n",
    "\n",
    "%matplotlib inline\n",
    "\n",
    "config = dict()\n",
    "config['resource_dir'] = '../resources/UCI_HAR_Dataset/'\n",
    "config['features'] = config['resource_dir'] + \"features.txt\"\n",
    "config['train_x_train'] = config['resource_dir'] + \"train/X_train.txt\"\n",
    "config['train_y_train'] = config['resource_dir'] + \"train/Y_train.txt\"\n",
    "config['test_x_test'] = config['resource_dir'] + \"test/X_test.txt\"\n",
    "config['test_y_test'] = config['resource_dir'] + \"test/Y_test.txt\"\n",
    "config['activity_labels'] = config['resource_dir'] + \"activity_labels.txt\"\n",
    "\n",
    "activity_labels_df = pd.read_csv(config['activity_labels'], sep=r\"\\s+\", header=None).set_index(0)\n",
    "\n",
    "# Initialising train Y data set\n",
    "train_y_df = pd.read_csv(config['train_y_train'], header=None)\n",
    "train_y_df.columns=['activity_idx']\n",
    "train_y_df['activity_labels'] = train_y_df['activity_idx'].map(lambda x: activity_labels_df.loc[x].values[0])\n",
    "\n",
    "# Initialising test Y data set\n",
    "test_y_df = pd.read_csv(config['test_y_test'], header=None)\n",
    "test_y_df.columns=['activity_idx']\n",
    "test_y_df['activity_labels'] = test_y_df['activity_idx'].map(lambda x: activity_labels_df.loc[x].values[0])\n",
    "\n",
    "\n",
    "# Initialising headers\n",
    "col_headers_list = [line.split(\" \")[1].strip() for line in open(config['features'])]\n",
    "col_headers_set = set(line.split(\" \")[1].strip() for line in open(config['features']))\n",
    "\n",
    "# Initialising train X data set\n",
    "train_x_df = pd.read_csv(config['train_x_train'], sep=r\"\\s+\",header=None)\n",
    "train_x_df.columns = col_headers_list\n",
    "\n",
    "train_x_df = pd.concat([train_x_df,train_y_df], axis=1)\n",
    "\n",
    "train_x_df = train_x_df.T.reset_index().drop_duplicates(subset='index',take_last=True).set_index('index').T\n",
    "train_x_df.rename(columns=lambda x: x.replace(\"BodyBody\",\"\"), inplace=True)\n",
    "train_x_df.rename(columns=lambda x: x.replace(\"Body\",\"\"), inplace=True)\n",
    "\n",
    "# Initialising test X data set\n",
    "\n",
    "test_x_df = pd.read_csv(config['test_x_test'], sep=r\"\\s+\", header=None)\n",
    "test_x_df.columns = col_headers_list\n",
    "\n",
    "test_x_df = pd.concat([test_x_df,test_y_df], axis=1)\n",
    "print test_x_df\n",
    "\n",
    "test_x_df = test_x_df.T.reset_index().drop_duplicates(subset='index',take_last=True).set_index('index').T\n",
    "test_x_df.rename(columns=lambda x: x.replace(\"BodyBody\",\"\"), inplace=True)\n",
    "test_x_df.rename(columns=lambda x: x.replace(\"Body\",\"\"), inplace=True)\n",
    "#test_x_df.rename(columns=lambda x: x.replace(\"Mag\",\"\"), inplace=True)\n",
    "#test_x_df.columns.values.tolist()\n",
    "\n",
    "\n",
    "\n"
   ]
  },
  {
   "cell_type": "code",
   "execution_count": 52,
   "metadata": {
    "collapsed": false
   },
   "outputs": [
    {
     "data": {
      "image/png": "[encoded data removed]",
      "text/plain": [
       "<matplotlib.figure.Figure at 0x107139150>"
      ]
     },
     "metadata": {},
     "output_type": "display_data"
    },
    {
     "data": {
      "text/plain": [
       "\"\\n'fAccMag-mean()',\\n 'fAccMag-std()',\\n 'fAccMag-mad()',\\n 'fAccMag-max()',\\n 'fAccMag-min()',\\n 'fAccMag-sma()',\\n\""
      ]
     },
     "execution_count": 52,
     "metadata": {},
     "output_type": "execute_result"
    }
   ],
   "source": [
    "plt.hist(train_x_df['fAccMag-mean()'],alpha=0.5,label='fAcc-mean')\n",
    "plt.hist(train_x_df['fAccMag-std()'],alpha=0.5,label='fAcc-std')\n",
    "plt.hist(train_x_df['fAccMag-mad()'],alpha=0.5,label='fAcc-mad')\n",
    "plt.hist(train_x_df['fAccMag-max()'],alpha=0.5,label='fAcc-max')\n",
    "plt.hist(train_x_df['fAccMag-min()'],alpha=0.5,label='fAcc-min')\n",
    "plt.hist(train_x_df['fAccMag-sma()'],alpha=0.5,label='fAcc-sma')\n",
    "plt.legend()\n",
    "plt.show()\n",
    "\n",
    "\"\"\"\n",
    "'fAccMag-mean()',\n",
    " 'fAccMag-std()',\n",
    " 'fAccMag-mad()',\n",
    " 'fAccMag-max()',\n",
    " 'fAccMag-min()',\n",
    " 'fAccMag-sma()',\n",
    "\"\"\""
   ]
  },
  {
   "cell_type": "code",
   "execution_count": 53,
   "metadata": {
    "collapsed": false
   },
   "outputs": [
    {
     "data": {
      "text/plain": [
       "<matplotlib.axes._subplots.AxesSubplot at 0x1071263d0>"
      ]
     },
     "execution_count": 53,
     "metadata": {},
     "output_type": "execute_result"
    },
    {
     "data": {
      "image/png": "[encoded data removed]",
      "text/plain": [
       "<matplotlib.figure.Figure at 0x108e6ae10>"
      ]
     },
     "metadata": {},
     "output_type": "display_data"
    }
   ],
   "source": [
    "train_x_df['fAccMag-mean()'].hist()"
   ]
  },
  {
   "cell_type": "code",
   "execution_count": 54,
   "metadata": {
    "collapsed": false
   },
   "outputs": [
    {
     "data": {
      "text/plain": [
       "<matplotlib.axes._subplots.AxesSubplot at 0x10870bdd0>"
      ]
     },
     "execution_count": 54,
     "metadata": {},
     "output_type": "execute_result"
    },
    {
     "data": {
      "image/png": "[encoded data removed]",
      "text/plain": [
       "<matplotlib.figure.Figure at 0x10827fa10>"
      ]
     },
     "metadata": {},
     "output_type": "display_data"
    }
   ],
   "source": [
    "train_x_df['fAccMag-std()'].hist()"
   ]
  },
  {
   "cell_type": "code",
   "execution_count": 56,
   "metadata": {
    "collapsed": false
   },
   "outputs": [
    {
     "data": {
      "text/plain": [
       "<matplotlib.axes._subplots.AxesSubplot at 0x1087f18d0>"
      ]
     },
     "execution_count": 56,
     "metadata": {},
     "output_type": "execute_result"
    },
    {
     "data": {
      "image/png": "[encoded data removed]",
      "text/plain": [
       "<matplotlib.figure.Figure at 0x108805190>"
      ]
     },
     "metadata": {},
     "output_type": "display_data"
    }
   ],
   "source": [
    "train_x_df['fAccMag-mad()'].hist()"
   ]
  },
  {
   "cell_type": "code",
   "execution_count": null,
   "metadata": {
    "collapsed": true
   },
   "outputs": [],
   "source": []
  }
 ],
 "metadata": {
  "kernelspec": {
   "display_name": "Python 2",
   "language": "python",
   "name": "python2"
  },
  "language_info": {
   "codemirror_mode": {
    "name": "ipython",
    "version": 2
   },
   "file_extension": ".py",
   "mimetype": "text/x-python",
   "name": "python",
   "nbconvert_exporter": "python",
   "pygments_lexer": "ipython2",
   "version": "2.7.10"
  }
 },
 "nbformat": 4,
 "nbformat_minor": 0
}
